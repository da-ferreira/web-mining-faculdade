{
 "cells": [
  {
   "cell_type": "code",
   "execution_count": 6,
   "metadata": {},
   "outputs": [],
   "source": [
    "# Importando Modulos Para o Web Scrapping.\n",
    "\n",
    "import pandas as pd\n",
    "\n",
    "from selenium import webdriver\n",
    "from selenium.webdriver.common.by import By\n",
    "from selenium.webdriver.chrome.service import Service\n",
    "from webdriver_manager.chrome import ChromeDriverManager"
   ]
  },
  {
   "cell_type": "code",
   "execution_count": 7,
   "metadata": {},
   "outputs": [],
   "source": [
    "# Configurando Dados Do Driver Do Navegador Utilizado Para Raspagem De Dados.\n",
    "# Navegador Utilizado Será O Google Chrome.\n",
    "\n",
    "driver = webdriver.Chrome(service=Service(ChromeDriverManager().install()))\n",
    "driver.implicitly_wait(3)\n",
    "driver.get('https://www.fundsexplorer.com.br/ranking')"
   ]
  },
  {
   "cell_type": "code",
   "execution_count": 8,
   "metadata": {},
   "outputs": [],
   "source": [
    "# Criando DataFrame Para Armazenar Dados Da Raspagem De Dados.\n",
    "\n",
    "df = pd.DataFrame(columns=[\n",
    "\n",
    "    'Código',\n",
    "    'Setor',\n",
    "    'Preço Atual',\n",
    "    'Liquidez Diaria',\n",
    "    'Dívidendo',\n",
    "    'Dividend Yield',\n",
    "    'Dividend Yield Anual',\n",
    "    'Variação Preço',\n",
    "    'P/VP',\n",
    "    'Vacância Física',\n",
    "    'Vacância Financeira'\n",
    "    \n",
    "])"
   ]
  },
  {
   "cell_type": "code",
   "execution_count": 9,
   "metadata": {},
   "outputs": [],
   "source": [
    "# Varrendo Os Dados Coletados Na Raspagem De Dados.\n",
    "# Formatando e Salvando os Dados Coletados.\n",
    "\n",
    "data = []\n",
    "\n",
    "for i in range(1, 321):\n",
    "\n",
    "    code = driver.find_element(By.XPATH, '//*[@id=\"table-ranking\"]/tbody/tr[{}]/td[1]/a'.format(i)).text\n",
    "    sector = driver.find_element(By.XPATH, '//*[@id=\"table-ranking\"]/tbody/tr[{}]/td[2]'.format(i)).text\n",
    "    currentPrice = driver.find_element(By.XPATH, '//*[@id=\"table-ranking\"]/tbody/tr[{}]/td[3]'.format(i)).text\n",
    "    dailyLiquidity = driver.find_element(By.XPATH, '//*[@id=\"table-ranking\"]/tbody/tr[{}]/td[4]'.format(i)).text\n",
    "    dividend = driver.find_element(By.XPATH, '//*[@id=\"table-ranking\"]/tbody/tr[{}]/td[5]'.format(i)).text\n",
    "    dividendYield = driver.find_element(By.XPATH, '//*[@id=\"table-ranking\"]/tbody/tr[{}]/td[6]'.format(i)).text\n",
    "    dividendYieldAnnual = driver.find_element(By.XPATH, '//*[@id=\"table-ranking\"]/tbody/tr[{}]/td[13]'.format(i)).text\n",
    "    priceVariation = driver.find_element(By.XPATH, '//*[@id=\"table-ranking\"]/tbody/tr[{}]/td[14]'.format(i)).text\n",
    "    pvp = driver.find_element(By.XPATH, '//*[@id=\"table-ranking\"]/tbody/tr[{}]/td[19]'.format(i)).text\n",
    "    physicalVacancy = driver.find_element(By.XPATH, '//*[@id=\"table-ranking\"]/tbody/tr[{}]/td[24]'.format(i)).text\n",
    "    financialVacancy = driver.find_element(By.XPATH, '//*[@id=\"table-ranking\"]/tbody/tr[{}]/td[25]'.format(i)).text\n",
    "\n",
    "    register = {\n",
    "\n",
    "        'code': code, \n",
    "        'sector': sector, \n",
    "        'currentPrice': currentPrice, \n",
    "        'dailyLiquidity': dailyLiquidity,\n",
    "        'dividend': dividend, \n",
    "        'dividendYield': dividendYield, \n",
    "        'dividendYieldAnnual': dividendYieldAnnual,\n",
    "        'priceVariation': priceVariation,\n",
    "        'pvp': pvp, \n",
    "        'physicalVacancy': physicalVacancy,\n",
    "        'financialVacancy': financialVacancy\n",
    "\n",
    "    }\n",
    "    \n",
    "    data.append(register)\n",
    "\n",
    "df = pd.DataFrame.from_dict(data)"
   ]
  },
  {
   "cell_type": "code",
   "execution_count": 10,
   "metadata": {},
   "outputs": [],
   "source": [
    "# Exportando O DataFrame No Formato CSV.\n",
    "\n",
    "df.to_csv('../bases originais/funds.csv', index=False)\n",
    "driver.quit()"
   ]
  }
 ],
 "metadata": {
  "kernelspec": {
   "display_name": "venv",
   "language": "python",
   "name": "python3"
  },
  "language_info": {
   "codemirror_mode": {
    "name": "ipython",
    "version": 3
   },
   "file_extension": ".py",
   "mimetype": "text/x-python",
   "name": "python",
   "nbconvert_exporter": "python",
   "pygments_lexer": "ipython3",
   "version": "3.10.9"
  },
  "orig_nbformat": 4
 },
 "nbformat": 4,
 "nbformat_minor": 2
}
