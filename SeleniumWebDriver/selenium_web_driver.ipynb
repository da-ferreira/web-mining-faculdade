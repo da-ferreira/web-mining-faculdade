{
 "cells": [
  {
   "cell_type": "code",
   "execution_count": 33,
   "metadata": {},
   "outputs": [],
   "source": [
    "from webdriver_manager.chrome import ChromeDriverManager\n",
    "from selenium import webdriver\n",
    "from selenium.webdriver.common.by import By\n",
    "from selenium.webdriver.support.ui import WebDriverWait\n",
    "from selenium.webdriver.support import expected_conditions as EC\n",
    "from selenium.webdriver.chrome.service import Service"
   ]
  },
  {
   "cell_type": "code",
   "execution_count": 34,
   "metadata": {},
   "outputs": [],
   "source": [
    "browser = webdriver.Chrome(service=Service(ChromeDriverManager().install()))"
   ]
  },
  {
   "cell_type": "code",
   "execution_count": 35,
   "metadata": {},
   "outputs": [],
   "source": [
    "browser.get('http://www.ssp.sp.gov.br/transparenciassp/')"
   ]
  },
  {
   "cell_type": "code",
   "execution_count": 36,
   "metadata": {},
   "outputs": [],
   "source": [
    "try:\n",
    "    WebDriverWait(browser, 3).until(\n",
    "        EC.presence_of_element_located((By.XPATH, '//*[@id=\"cphBody_btnRouboVeiculo\"]'))) \n",
    "finally:\n",
    "    browser.find_element(By.XPATH, '//*[@id=\"cphBody_btnRouboVeiculo\"]').click()"
   ]
  },
  {
   "cell_type": "code",
   "execution_count": 37,
   "metadata": {},
   "outputs": [],
   "source": [
    "try:\n",
    "    WebDriverWait(browser, 3).until(\n",
    "        EC.presence_of_element_located((By.XPATH, '//*[@id=\"cphBody_lkAno22\"]'))) \n",
    "finally:\n",
    "    browser.find_element(By.XPATH, '//*[@id=\"cphBody_lkAno22\"]').click()"
   ]
  },
  {
   "cell_type": "code",
   "execution_count": 38,
   "metadata": {},
   "outputs": [],
   "source": [
    "for i in range(1, 13):\n",
    "    try:\n",
    "        WebDriverWait(browser, 3).until(\n",
    "            EC.presence_of_element_located((By.ID, f'cphBody_lkMes{i}')))\n",
    "    finally:\n",
    "        browser.find_element(By.ID, f'cphBody_lkMes{i}').click()\n",
    "        try:\n",
    "            WebDriverWait(browser, 3).until(\n",
    "                EC.presence_of_element_located((By.ID, 'cphBody_ExportarBOLink')))\n",
    "        finally:\n",
    "            browser.find_element(By.ID, 'cphBody_ExportarBOLink').click()\n"
   ]
  },
  {
   "cell_type": "code",
   "execution_count": 39,
   "metadata": {},
   "outputs": [],
   "source": [
    "browser.quit()\n"
   ]
  }
 ],
 "metadata": {
  "kernelspec": {
   "display_name": "venv",
   "language": "python",
   "name": "python3"
  },
  "language_info": {
   "codemirror_mode": {
    "name": "ipython",
    "version": 3
   },
   "file_extension": ".py",
   "mimetype": "text/x-python",
   "name": "python",
   "nbconvert_exporter": "python",
   "pygments_lexer": "ipython3",
   "version": "3.8.1"
  },
  "orig_nbformat": 4
 },
 "nbformat": 4,
 "nbformat_minor": 2
}
