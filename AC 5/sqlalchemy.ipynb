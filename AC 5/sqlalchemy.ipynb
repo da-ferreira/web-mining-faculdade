{
 "cells": [
  {
   "cell_type": "code",
   "execution_count": 66,
   "metadata": {},
   "outputs": [],
   "source": [
    "import sqlalchemy as db"
   ]
  },
  {
   "cell_type": "code",
   "execution_count": 67,
   "metadata": {},
   "outputs": [],
   "source": [
    "engine = db.create_engine(\"sqlite:///sqlite.db\", echo=True)\n",
    "conn = engine.connect()\n",
    "metadata = db.MetaData()"
   ]
  },
  {
   "cell_type": "code",
   "execution_count": 68,
   "metadata": {},
   "outputs": [
    {
     "name": "stdout",
     "output_type": "stream",
     "text": [
      "2023-05-25 20:15:22,673 INFO sqlalchemy.engine.Engine BEGIN (implicit)\n",
      "2023-05-25 20:15:22,676 INFO sqlalchemy.engine.Engine PRAGMA main.table_info(\"users\")\n",
      "2023-05-25 20:15:22,679 INFO sqlalchemy.engine.Engine [raw sql] ()\n",
      "2023-05-25 20:15:22,683 INFO sqlalchemy.engine.Engine COMMIT\n"
     ]
    }
   ],
   "source": [
    "table_users = db.Table(\n",
    "    \"users\",\n",
    "    metadata,\n",
    "    db.Column(\"id\", db.Integer()),\n",
    "    db.Column(\"name\", db.String(255), nullable=False),\n",
    "    db.Column(\"fullname\", db.String(255), nullable=False),\n",
    "    db.Column(\"password\", db.String(255), nullable=False),\n",
    ")\n",
    "\n",
    "metadata.create_all(engine)"
   ]
  },
  {
   "attachments": {},
   "cell_type": "markdown",
   "metadata": {},
   "source": [
    "### Fazendo operações\n"
   ]
  },
  {
   "cell_type": "code",
   "execution_count": 69,
   "metadata": {},
   "outputs": [],
   "source": [
    "insert = db.insert(table_users).values(\n",
    "    id=1, name=\"jack\", fullname=\"Jack Bean\", password=\"gjffdd\"\n",
    ")"
   ]
  },
  {
   "cell_type": "code",
   "execution_count": 70,
   "metadata": {},
   "outputs": [
    {
     "name": "stdout",
     "output_type": "stream",
     "text": [
      "2023-05-25 20:15:22,902 INFO sqlalchemy.engine.Engine INSERT INTO users (id, name, fullname, password) VALUES (?, ?, ?, ?)\n",
      "2023-05-25 20:15:22,902 INFO sqlalchemy.engine.Engine [generated in 0.00294s] (1, 'jack', 'Jack Bean', 'gjffdd')\n",
      "2023-05-25 20:15:22,912 INFO sqlalchemy.engine.Engine COMMIT\n"
     ]
    }
   ],
   "source": [
    "result = conn.execute(insert)"
   ]
  },
  {
   "cell_type": "code",
   "execution_count": 71,
   "metadata": {},
   "outputs": [
    {
     "name": "stdout",
     "output_type": "stream",
     "text": [
      "2023-05-25 20:15:22,991 INFO sqlalchemy.engine.Engine SELECT users.id, users.name, users.fullname, users.password \n",
      "FROM users\n",
      "2023-05-25 20:15:22,991 INFO sqlalchemy.engine.Engine [generated in 0.00114s] ()\n"
     ]
    }
   ],
   "source": [
    "output = conn.execute(db.select([table_users])).fetchall()"
   ]
  },
  {
   "cell_type": "code",
   "execution_count": 72,
   "metadata": {},
   "outputs": [
    {
     "data": {
      "text/plain": [
       "[(None, 'jack', 'Jack Bean', 'gjffdd'),\n",
       " (None, 'jack', 'Jack Bean', 'gjffdd'),\n",
       " (None, 'jack', 'Jack Bean', 'gjffdd'),\n",
       " (1, 'jack', 'Jack Bean', 'gjffdd'),\n",
       " (2, 'Joao', 'Joao Silva', '123456'),\n",
       " (3, 'Jose', 'Jose Santos', '123456'),\n",
       " (4, 'Maria', 'Maria Souza', '123456'),\n",
       " (5, 'Ana', 'Ana Clara', '123456'),\n",
       " (2, 'Joao', 'Joao Silva', '123456'),\n",
       " (3, 'Jose', 'Jose Santos', '123456'),\n",
       " (4, 'Maria', 'Maria Souza', '123456'),\n",
       " (5, 'Ana', 'Ana Clara', '123456'),\n",
       " (2, 'Joao', 'Joao Silva', '123456'),\n",
       " (3, 'Jose', 'Jose Santos', '123456'),\n",
       " (4, 'Maria', 'Maria Souza', '123456'),\n",
       " (5, 'Ana', 'Ana Clara', '123456'),\n",
       " (2, 'Joao', 'Joao Silva', '123456'),\n",
       " (3, 'Jose', 'Jose Santos', '123456'),\n",
       " (4, 'Maria', 'Maria Souza', '123456'),\n",
       " (5, 'Ana', 'Ana Clara', '123456'),\n",
       " (2, 'Joao', 'Joao Silva', '123456'),\n",
       " (3, 'Jose', 'Jose Santos', '123456'),\n",
       " (4, 'Maria', 'Maria Souza', '123456'),\n",
       " (5, 'Ana', 'Ana Clara', '123456'),\n",
       " (1, 'jack', 'Jack Bean', 'gjffdd')]"
      ]
     },
     "execution_count": 72,
     "metadata": {},
     "output_type": "execute_result"
    }
   ],
   "source": [
    "output"
   ]
  },
  {
   "attachments": {},
   "cell_type": "markdown",
   "metadata": {},
   "source": [
    "### Adicionando varias linhas\n"
   ]
  },
  {
   "cell_type": "code",
   "execution_count": 73,
   "metadata": {},
   "outputs": [
    {
     "name": "stdout",
     "output_type": "stream",
     "text": [
      "2023-05-25 20:15:23,194 INFO sqlalchemy.engine.Engine INSERT INTO users (id, name, fullname, password) VALUES (?, ?, ?, ?)\n",
      "2023-05-25 20:15:23,196 INFO sqlalchemy.engine.Engine [generated in 0.00347s] ((2, 'Joao', 'Joao Silva', '123456'), (3, 'Jose', 'Jose Santos', '123456'), (4, 'Maria', 'Maria Souza', '123456'), (5, 'Ana', 'Ana Clara', '123456'))\n",
      "2023-05-25 20:15:23,203 INFO sqlalchemy.engine.Engine COMMIT\n",
      "2023-05-25 20:15:23,210 INFO sqlalchemy.engine.Engine SELECT users.id, users.name, users.fullname, users.password \n",
      "FROM users\n",
      "2023-05-25 20:15:23,214 INFO sqlalchemy.engine.Engine [cached since 0.2235s ago] ()\n"
     ]
    },
    {
     "data": {
      "text/plain": [
       "[(None, 'jack', 'Jack Bean', 'gjffdd'),\n",
       " (None, 'jack', 'Jack Bean', 'gjffdd'),\n",
       " (None, 'jack', 'Jack Bean', 'gjffdd'),\n",
       " (1, 'jack', 'Jack Bean', 'gjffdd'),\n",
       " (2, 'Joao', 'Joao Silva', '123456'),\n",
       " (3, 'Jose', 'Jose Santos', '123456'),\n",
       " (4, 'Maria', 'Maria Souza', '123456'),\n",
       " (5, 'Ana', 'Ana Clara', '123456'),\n",
       " (2, 'Joao', 'Joao Silva', '123456'),\n",
       " (3, 'Jose', 'Jose Santos', '123456'),\n",
       " (4, 'Maria', 'Maria Souza', '123456'),\n",
       " (5, 'Ana', 'Ana Clara', '123456'),\n",
       " (2, 'Joao', 'Joao Silva', '123456'),\n",
       " (3, 'Jose', 'Jose Santos', '123456'),\n",
       " (4, 'Maria', 'Maria Souza', '123456'),\n",
       " (5, 'Ana', 'Ana Clara', '123456'),\n",
       " (2, 'Joao', 'Joao Silva', '123456'),\n",
       " (3, 'Jose', 'Jose Santos', '123456'),\n",
       " (4, 'Maria', 'Maria Souza', '123456'),\n",
       " (5, 'Ana', 'Ana Clara', '123456'),\n",
       " (2, 'Joao', 'Joao Silva', '123456'),\n",
       " (3, 'Jose', 'Jose Santos', '123456'),\n",
       " (4, 'Maria', 'Maria Souza', '123456'),\n",
       " (5, 'Ana', 'Ana Clara', '123456'),\n",
       " (1, 'jack', 'Jack Bean', 'gjffdd'),\n",
       " (2, 'Joao', 'Joao Silva', '123456'),\n",
       " (3, 'Jose', 'Jose Santos', '123456'),\n",
       " (4, 'Maria', 'Maria Souza', '123456'),\n",
       " (5, 'Ana', 'Ana Clara', '123456')]"
      ]
     },
     "execution_count": 73,
     "metadata": {},
     "output_type": "execute_result"
    }
   ],
   "source": [
    "query = db.insert(table_users)\n",
    "\n",
    "values = [\n",
    "    {\"id\": 2, \"name\": \"Joao\", \"fullname\": \"Joao Silva\", \"password\": \"123456\"},\n",
    "    {\"id\": 3, \"name\": \"Jose\", \"fullname\": \"Jose Santos\", \"password\": \"123456\"},\n",
    "    {\"id\": 4, \"name\": \"Maria\", \"fullname\": \"Maria Souza\", \"password\": \"123456\"},\n",
    "    {\"id\": 5, \"name\": \"Ana\", \"fullname\": \"Ana Clara\", \"password\": \"123456\"},\n",
    "]\n",
    "\n",
    "result = conn.execute(query, values)\n",
    "\n",
    "output = conn.execute(db.select([table_users])).fetchall()\n",
    "\n",
    "output"
   ]
  },
  {
   "attachments": {},
   "cell_type": "markdown",
   "metadata": {},
   "source": [
    "### Consultas\n"
   ]
  },
  {
   "cell_type": "code",
   "execution_count": 74,
   "metadata": {},
   "outputs": [
    {
     "name": "stdout",
     "output_type": "stream",
     "text": [
      "2023-05-25 20:15:23,351 INFO sqlalchemy.engine.Engine select * from users\n",
      "2023-05-25 20:15:23,351 INFO sqlalchemy.engine.Engine [raw sql] ()\n"
     ]
    },
    {
     "data": {
      "text/plain": [
       "[(None, 'jack', 'Jack Bean', 'gjffdd'),\n",
       " (None, 'jack', 'Jack Bean', 'gjffdd'),\n",
       " (None, 'jack', 'Jack Bean', 'gjffdd'),\n",
       " (1, 'jack', 'Jack Bean', 'gjffdd'),\n",
       " (2, 'Joao', 'Joao Silva', '123456'),\n",
       " (3, 'Jose', 'Jose Santos', '123456'),\n",
       " (4, 'Maria', 'Maria Souza', '123456'),\n",
       " (5, 'Ana', 'Ana Clara', '123456'),\n",
       " (2, 'Joao', 'Joao Silva', '123456'),\n",
       " (3, 'Jose', 'Jose Santos', '123456'),\n",
       " (4, 'Maria', 'Maria Souza', '123456'),\n",
       " (5, 'Ana', 'Ana Clara', '123456'),\n",
       " (2, 'Joao', 'Joao Silva', '123456'),\n",
       " (3, 'Jose', 'Jose Santos', '123456'),\n",
       " (4, 'Maria', 'Maria Souza', '123456'),\n",
       " (5, 'Ana', 'Ana Clara', '123456'),\n",
       " (2, 'Joao', 'Joao Silva', '123456'),\n",
       " (3, 'Jose', 'Jose Santos', '123456'),\n",
       " (4, 'Maria', 'Maria Souza', '123456'),\n",
       " (5, 'Ana', 'Ana Clara', '123456'),\n",
       " (2, 'Joao', 'Joao Silva', '123456'),\n",
       " (3, 'Jose', 'Jose Santos', '123456'),\n",
       " (4, 'Maria', 'Maria Souza', '123456'),\n",
       " (5, 'Ana', 'Ana Clara', '123456'),\n",
       " (1, 'jack', 'Jack Bean', 'gjffdd'),\n",
       " (2, 'Joao', 'Joao Silva', '123456'),\n",
       " (3, 'Jose', 'Jose Santos', '123456'),\n",
       " (4, 'Maria', 'Maria Souza', '123456'),\n",
       " (5, 'Ana', 'Ana Clara', '123456')]"
      ]
     },
     "execution_count": 74,
     "metadata": {},
     "output_type": "execute_result"
    }
   ],
   "source": [
    "output = conn.execute(\"select * from users\").fetchall()\n",
    "output"
   ]
  },
  {
   "attachments": {},
   "cell_type": "markdown",
   "metadata": {},
   "source": [
    "### Consultas com a API do SQLAlchemy\n"
   ]
  },
  {
   "cell_type": "code",
   "execution_count": 75,
   "metadata": {},
   "outputs": [
    {
     "name": "stdout",
     "output_type": "stream",
     "text": [
      "2023-05-25 20:15:23,482 INFO sqlalchemy.engine.Engine SELECT users.id, users.name, users.fullname, users.password \n",
      "FROM users \n",
      "WHERE users.name = ?\n",
      "2023-05-25 20:15:23,487 INFO sqlalchemy.engine.Engine [generated in 0.00202s] ('jack',)\n"
     ]
    },
    {
     "data": {
      "text/plain": [
       "[(None, 'jack', 'Jack Bean', 'gjffdd'),\n",
       " (None, 'jack', 'Jack Bean', 'gjffdd'),\n",
       " (None, 'jack', 'Jack Bean', 'gjffdd'),\n",
       " (1, 'jack', 'Jack Bean', 'gjffdd'),\n",
       " (1, 'jack', 'Jack Bean', 'gjffdd')]"
      ]
     },
     "execution_count": 75,
     "metadata": {},
     "output_type": "execute_result"
    }
   ],
   "source": [
    "conn.execute(table_users.select().where(table_users.c.name == \"jack\")).fetchall()"
   ]
  },
  {
   "attachments": {},
   "cell_type": "markdown",
   "metadata": {},
   "source": [
    "### Integrando com o pandas"
   ]
  },
  {
   "cell_type": "code",
   "execution_count": 76,
   "metadata": {},
   "outputs": [],
   "source": [
    "import pandas as pd"
   ]
  },
  {
   "cell_type": "code",
   "execution_count": 78,
   "metadata": {},
   "outputs": [
    {
     "name": "stdout",
     "output_type": "stream",
     "text": [
      "2023-05-25 20:15:36,220 INFO sqlalchemy.engine.Engine SELECT users.id, users.name, users.fullname, users.password \n",
      "FROM users \n",
      "WHERE users.name IN (?, ?)\n",
      "2023-05-25 20:15:36,223 INFO sqlalchemy.engine.Engine [generated in 0.00236s] ('jack', 'Joao')\n",
      "<class 'pandas.core.frame.DataFrame'>\n"
     ]
    },
    {
     "data": {
      "text/html": [
       "<div>\n",
       "<style scoped>\n",
       "    .dataframe tbody tr th:only-of-type {\n",
       "        vertical-align: middle;\n",
       "    }\n",
       "\n",
       "    .dataframe tbody tr th {\n",
       "        vertical-align: top;\n",
       "    }\n",
       "\n",
       "    .dataframe thead th {\n",
       "        text-align: right;\n",
       "    }\n",
       "</style>\n",
       "<table border=\"1\" class=\"dataframe\">\n",
       "  <thead>\n",
       "    <tr style=\"text-align: right;\">\n",
       "      <th></th>\n",
       "      <th>name</th>\n",
       "      <th>fullname</th>\n",
       "      <th>password</th>\n",
       "    </tr>\n",
       "    <tr>\n",
       "      <th>id</th>\n",
       "      <th></th>\n",
       "      <th></th>\n",
       "      <th></th>\n",
       "    </tr>\n",
       "  </thead>\n",
       "  <tbody>\n",
       "    <tr>\n",
       "      <th>NaN</th>\n",
       "      <td>jack</td>\n",
       "      <td>Jack Bean</td>\n",
       "      <td>gjffdd</td>\n",
       "    </tr>\n",
       "    <tr>\n",
       "      <th>NaN</th>\n",
       "      <td>jack</td>\n",
       "      <td>Jack Bean</td>\n",
       "      <td>gjffdd</td>\n",
       "    </tr>\n",
       "    <tr>\n",
       "      <th>NaN</th>\n",
       "      <td>jack</td>\n",
       "      <td>Jack Bean</td>\n",
       "      <td>gjffdd</td>\n",
       "    </tr>\n",
       "    <tr>\n",
       "      <th>1.0</th>\n",
       "      <td>jack</td>\n",
       "      <td>Jack Bean</td>\n",
       "      <td>gjffdd</td>\n",
       "    </tr>\n",
       "    <tr>\n",
       "      <th>2.0</th>\n",
       "      <td>Joao</td>\n",
       "      <td>Joao Silva</td>\n",
       "      <td>123456</td>\n",
       "    </tr>\n",
       "    <tr>\n",
       "      <th>2.0</th>\n",
       "      <td>Joao</td>\n",
       "      <td>Joao Silva</td>\n",
       "      <td>123456</td>\n",
       "    </tr>\n",
       "    <tr>\n",
       "      <th>2.0</th>\n",
       "      <td>Joao</td>\n",
       "      <td>Joao Silva</td>\n",
       "      <td>123456</td>\n",
       "    </tr>\n",
       "    <tr>\n",
       "      <th>2.0</th>\n",
       "      <td>Joao</td>\n",
       "      <td>Joao Silva</td>\n",
       "      <td>123456</td>\n",
       "    </tr>\n",
       "    <tr>\n",
       "      <th>2.0</th>\n",
       "      <td>Joao</td>\n",
       "      <td>Joao Silva</td>\n",
       "      <td>123456</td>\n",
       "    </tr>\n",
       "    <tr>\n",
       "      <th>1.0</th>\n",
       "      <td>jack</td>\n",
       "      <td>Jack Bean</td>\n",
       "      <td>gjffdd</td>\n",
       "    </tr>\n",
       "    <tr>\n",
       "      <th>2.0</th>\n",
       "      <td>Joao</td>\n",
       "      <td>Joao Silva</td>\n",
       "      <td>123456</td>\n",
       "    </tr>\n",
       "  </tbody>\n",
       "</table>\n",
       "</div>"
      ],
      "text/plain": [
       "     name    fullname password\n",
       "id                            \n",
       "NaN  jack   Jack Bean   gjffdd\n",
       "NaN  jack   Jack Bean   gjffdd\n",
       "NaN  jack   Jack Bean   gjffdd\n",
       "1.0  jack   Jack Bean   gjffdd\n",
       "2.0  Joao  Joao Silva   123456\n",
       "2.0  Joao  Joao Silva   123456\n",
       "2.0  Joao  Joao Silva   123456\n",
       "2.0  Joao  Joao Silva   123456\n",
       "2.0  Joao  Joao Silva   123456\n",
       "1.0  jack   Jack Bean   gjffdd\n",
       "2.0  Joao  Joao Silva   123456"
      ]
     },
     "execution_count": 78,
     "metadata": {},
     "output_type": "execute_result"
    }
   ],
   "source": [
    "query = table_users.select().where(table_users.c.name.in_([\"jack\", \"Joao\"]))\n",
    "df = pd.read_sql(query, conn, index_col=\"id\")\n",
    "\n",
    "print(type(df))\n",
    "df"
   ]
  },
  {
   "cell_type": "code",
   "execution_count": 79,
   "metadata": {},
   "outputs": [
    {
     "ename": "AttributeError",
     "evalue": "module 'pandas' has no attribute 'to_sql'",
     "output_type": "error",
     "traceback": [
      "\u001b[1;31m---------------------------------------------------------------------------\u001b[0m",
      "\u001b[1;31mAttributeError\u001b[0m                            Traceback (most recent call last)",
      "Cell \u001b[1;32mIn[79], line 1\u001b[0m\n\u001b[1;32m----> 1\u001b[0m pd\u001b[39m.\u001b[39;49mto_sql(\u001b[39m\"\u001b[39m\u001b[39musers_v2\u001b[39m\u001b[39m\"\u001b[39m, conn, if_exists\u001b[39m=\u001b[39m\u001b[39m\"\u001b[39m\u001b[39mreplace\u001b[39m\u001b[39m\"\u001b[39m, index\u001b[39m=\u001b[39m\u001b[39mFalse\u001b[39;00m)\n",
      "File \u001b[1;32mc:\\Users\\ferreira\\AppData\\Local\\Programs\\Python\\Python311\\Lib\\site-packages\\pandas\\__init__.py:264\u001b[0m, in \u001b[0;36m__getattr__\u001b[1;34m(name)\u001b[0m\n\u001b[0;32m    260\u001b[0m     \u001b[39mfrom\u001b[39;00m \u001b[39mpandas\u001b[39;00m\u001b[39m.\u001b[39;00m\u001b[39mcore\u001b[39;00m\u001b[39m.\u001b[39;00m\u001b[39marrays\u001b[39;00m\u001b[39m.\u001b[39;00m\u001b[39msparse\u001b[39;00m \u001b[39mimport\u001b[39;00m SparseArray \u001b[39mas\u001b[39;00m _SparseArray\n\u001b[0;32m    262\u001b[0m     \u001b[39mreturn\u001b[39;00m _SparseArray\n\u001b[1;32m--> 264\u001b[0m \u001b[39mraise\u001b[39;00m \u001b[39mAttributeError\u001b[39;00m(\u001b[39mf\u001b[39m\u001b[39m\"\u001b[39m\u001b[39mmodule \u001b[39m\u001b[39m'\u001b[39m\u001b[39mpandas\u001b[39m\u001b[39m'\u001b[39m\u001b[39m has no attribute \u001b[39m\u001b[39m'\u001b[39m\u001b[39m{\u001b[39;00mname\u001b[39m}\u001b[39;00m\u001b[39m'\u001b[39m\u001b[39m\"\u001b[39m)\n",
      "\u001b[1;31mAttributeError\u001b[0m: module 'pandas' has no attribute 'to_sql'"
     ]
    }
   ],
   "source": [
    "# pd.to_sql(\"users_v2\", conn, if_exists=\"replace\", index=False)"
   ]
  },
  {
   "attachments": {},
   "cell_type": "markdown",
   "metadata": {},
   "source": [
    "### Formato declarativo"
   ]
  },
  {
   "cell_type": "code",
   "execution_count": 80,
   "metadata": {},
   "outputs": [],
   "source": [
    "from sqlalchemy import create_engine, ForeignKey\n",
    "from sqlalchemy import Column, Date, Integer, String\n",
    "from sqlalchemy.ext.declarative import declarative_base"
   ]
  },
  {
   "cell_type": "code",
   "execution_count": 82,
   "metadata": {},
   "outputs": [],
   "source": [
    "engine = create_engine(\"sqlite:///sqlite_v2.db\", echo=True)"
   ]
  },
  {
   "cell_type": "code",
   "execution_count": 83,
   "metadata": {},
   "outputs": [],
   "source": [
    "conn = engine.connect()"
   ]
  },
  {
   "cell_type": "code",
   "execution_count": null,
   "metadata": {},
   "outputs": [],
   "source": [
    "Base = declarative_base()\n",
    "\n",
    "class School(Base):\n",
    "    __tablename__ = \"Impacta\"\n",
    "\n",
    "    id = Column(Integer, primary_key=True, autoincrement=True)\n",
    "    name = Column(String)\n",
    "\n",
    "    def __init__(self, name):\n",
    "        self.name = name\n",
    "    \n",
    "Base.metadata.create_all(engine)"
   ]
  },
  {
   "cell_type": "code",
   "execution_count": null,
   "metadata": {},
   "outputs": [],
   "source": []
  }
 ],
 "metadata": {
  "kernelspec": {
   "display_name": "Python 3",
   "language": "python",
   "name": "python3"
  },
  "language_info": {
   "codemirror_mode": {
    "name": "ipython",
    "version": 3
   },
   "file_extension": ".py",
   "mimetype": "text/x-python",
   "name": "python",
   "nbconvert_exporter": "python",
   "pygments_lexer": "ipython3",
   "version": "3.11.3"
  },
  "orig_nbformat": 4
 },
 "nbformat": 4,
 "nbformat_minor": 2
}
