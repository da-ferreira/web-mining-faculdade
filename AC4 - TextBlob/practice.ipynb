{
 "cells": [
  {
   "cell_type": "code",
   "execution_count": null,
   "metadata": {},
   "outputs": [],
   "source": [
    "# importando uma das principais bibliotecas de tratamento de texto\n",
    "import nltk\n",
    "nltk.download('punkt')\n",
    "nltk.download('wordnet')\n",
    "nltk.download('averaged_perceptron_tagger')\n",
    "nltk.download('brown')\n",
    "from nltk.corpus import stopwords\n",
    "from nltk.tokenize import word_tokenize\n",
    "nltk.download('stopwords')\n",
    "\n",
    "# importando o modelo que vamos usar para classificar a frase\n",
    "from textblob import TextBlob\n",
    "\n",
    "import pandas as pd"
   ]
  },
  {
   "attachments": {},
   "cell_type": "markdown",
   "metadata": {},
   "source": [
    "##  Coleta de dados"
   ]
  },
  {
   "cell_type": "code",
   "execution_count": 11,
   "metadata": {},
   "outputs": [],
   "source": [
    "frase = 'Gostei muito do filme, mas achei o final muito ruim'\n",
    "exemplo = TextBlob(frase)\n",
    "exemplo = exemplo.translate(from_lang='pt', to='en')"
   ]
  },
  {
   "attachments": {},
   "cell_type": "markdown",
   "metadata": {},
   "source": [
    "## Pré processamento"
   ]
  },
  {
   "cell_type": "code",
   "execution_count": 12,
   "metadata": {},
   "outputs": [
    {
     "data": {
      "text/plain": [
       "[Sentence(\"I really liked the movie, but I found the ending very bad\")]"
      ]
     },
     "execution_count": 12,
     "metadata": {},
     "output_type": "execute_result"
    }
   ],
   "source": [
    "exemplo.sentences"
   ]
  },
  {
   "cell_type": "code",
   "execution_count": 13,
   "metadata": {},
   "outputs": [
    {
     "data": {
      "text/plain": [
       "WordList(['I', 'really', 'liked', 'the', 'movie', 'but', 'I', 'found', 'the', 'ending', 'very', 'bad'])"
      ]
     },
     "execution_count": 13,
     "metadata": {},
     "output_type": "execute_result"
    }
   ],
   "source": [
    "exemplo.words"
   ]
  },
  {
   "cell_type": "code",
   "execution_count": 14,
   "metadata": {},
   "outputs": [
    {
     "data": {
      "text/plain": [
       "WordList([])"
      ]
     },
     "execution_count": 14,
     "metadata": {},
     "output_type": "execute_result"
    }
   ],
   "source": [
    "exemplo.noun_phrases  # frases nominais"
   ]
  },
  {
   "cell_type": "code",
   "execution_count": 17,
   "metadata": {},
   "outputs": [
    {
     "data": {
      "text/plain": [
       "Sentiment(polarity=-0.15499999999999992, subjectivity=0.8333333333333334)"
      ]
     },
     "execution_count": 17,
     "metadata": {},
     "output_type": "execute_result"
    }
   ],
   "source": [
    "exemplo.sentiment  # polaridade e subjetividade\n",
    "\n",
    "# polaridade: -1 a 1. Número expressa o quão positivo ou negativo é o texto\n",
    "# subjetividade: 0 a 1. Número expressa o quão subjetivo é o texto"
   ]
  },
  {
   "cell_type": "code",
   "execution_count": 24,
   "metadata": {},
   "outputs": [
    {
     "data": {
      "text/plain": [
       "['Gostei', 'filme', ',', 'achei', 'final', 'ruim']"
      ]
     },
     "execution_count": 24,
     "metadata": {},
     "output_type": "execute_result"
    }
   ],
   "source": [
    "text_tokens = word_tokenize(str(frase))\n",
    "\n",
    "# Mostra somente as palavras que sao stopwords\n",
    "tokens_sem_sw = [\n",
    "    word for word in text_tokens if word not in stopwords.words(\"portuguese\")\n",
    "]\n",
    "\n",
    "tokens_sem_sw"
   ]
  },
  {
   "cell_type": "code",
   "execution_count": 25,
   "metadata": {},
   "outputs": [
    {
     "name": "stdout",
     "output_type": "stream",
     "text": [
      "Gostei filme , achei final ruim\n"
     ]
    }
   ],
   "source": [
    "filtered_sentence = (\" \").join(tokens_sem_sw)\n",
    "print(filtered_sentence)"
   ]
  },
  {
   "cell_type": "code",
   "execution_count": 29,
   "metadata": {},
   "outputs": [],
   "source": [
    "exemplo = TextBlob(filtered_sentence)\n",
    "exemplo = exemplo.translate(from_lang='pt', to='en')"
   ]
  },
  {
   "cell_type": "code",
   "execution_count": 35,
   "metadata": {},
   "outputs": [
    {
     "data": {
      "text/html": [
       "<div>\n",
       "<style scoped>\n",
       "    .dataframe tbody tr th:only-of-type {\n",
       "        vertical-align: middle;\n",
       "    }\n",
       "\n",
       "    .dataframe tbody tr th {\n",
       "        vertical-align: top;\n",
       "    }\n",
       "\n",
       "    .dataframe thead th {\n",
       "        text-align: right;\n",
       "    }\n",
       "</style>\n",
       "<table border=\"1\" class=\"dataframe\">\n",
       "  <thead>\n",
       "    <tr style=\"text-align: right;\">\n",
       "      <th></th>\n",
       "      <th>frase</th>\n",
       "      <th>polaridade</th>\n",
       "      <th>subjetividade</th>\n",
       "    </tr>\n",
       "  </thead>\n",
       "  <tbody>\n",
       "    <tr>\n",
       "      <th>0</th>\n",
       "      <td>Gostei muito do filme, mas achei o final muito...</td>\n",
       "      <td>-0.033333</td>\n",
       "      <td>0.822222</td>\n",
       "    </tr>\n",
       "  </tbody>\n",
       "</table>\n",
       "</div>"
      ],
      "text/plain": [
       "                                               frase  polaridade  \\\n",
       "0  Gostei muito do filme, mas achei o final muito...   -0.033333   \n",
       "\n",
       "   subjetividade  \n",
       "0       0.822222  "
      ]
     },
     "execution_count": 35,
     "metadata": {},
     "output_type": "execute_result"
    }
   ],
   "source": [
    "polaridade = exemplo.sentiment.polarity\n",
    "subjetividade = exemplo.sentiment.subjectivity\n",
    "\n",
    "df = pd.DataFrame([[frase, polaridade, subjetividade]], columns=['frase', 'polaridade', 'subjetividade'])\n",
    "df"
   ]
  },
  {
   "attachments": {},
   "cell_type": "markdown",
   "metadata": {},
   "source": [
    "## Pipeline"
   ]
  },
  {
   "cell_type": "code",
   "execution_count": 36,
   "metadata": {},
   "outputs": [],
   "source": [
    "def traduz(frase):\n",
    "    exemplo = TextBlob(frase)\n",
    "    return exemplo.translate(from_lang='pt', to='en')"
   ]
  },
  {
   "cell_type": "code",
   "execution_count": 38,
   "metadata": {},
   "outputs": [],
   "source": [
    "def trata(frase):\n",
    "    text_tokens = word_tokenize(str(frase))\n",
    "    tokens_without_sw = [word for word in text_tokens if not word in stopwords.words('portuguese')]\n",
    "    return (\" \").join(tokens_without_sw)"
   ]
  },
  {
   "cell_type": "code",
   "execution_count": 39,
   "metadata": {},
   "outputs": [],
   "source": [
    "def previsao(frase):\n",
    "    exemplo = TextBlob(frase)\n",
    "    polaridade = exemplo.sentiment[0]\n",
    "    subjetividade = exemplo.sentiment[1]\n",
    "    \n",
    "    df = pd.DataFrame(\n",
    "        [[frase, polaridade, subjetividade]],\n",
    "        columns=[\"frase\", \"polaridade\", \"subjetividade\"],\n",
    "    )\n",
    "\n",
    "    df[\"sentimento\"] = \"neutro\"\n",
    "    df.loc[df.polaridade < -0.25, \"sentimento\"] = \"negativo\"\n",
    "    df.loc[df.polaridade > 0.25, \"sentimento\"] = \"positivo\"\n",
    "    \n",
    "    return df.to_json(\"dados.json\", orient=\"columns\"), polaridade, subjetividade"
   ]
  },
  {
   "cell_type": "code",
   "execution_count": 41,
   "metadata": {},
   "outputs": [
    {
     "data": {
      "text/plain": [
       "(None, 0.7, 0.6000000000000001)"
      ]
     },
     "execution_count": 41,
     "metadata": {},
     "output_type": "execute_result"
    }
   ],
   "source": [
    "frase = input('Digite algo: ')\n",
    "text = traduz(frase)\n",
    "text = trata(text)\n",
    "previsao(text)"
   ]
  }
 ],
 "metadata": {
  "kernelspec": {
   "display_name": "Python 3",
   "language": "python",
   "name": "python3"
  },
  "language_info": {
   "codemirror_mode": {
    "name": "ipython",
    "version": 3
   },
   "file_extension": ".py",
   "mimetype": "text/x-python",
   "name": "python",
   "nbconvert_exporter": "python",
   "pygments_lexer": "ipython3",
   "version": "3.11.3"
  },
  "orig_nbformat": 4
 },
 "nbformat": 4,
 "nbformat_minor": 2
}
